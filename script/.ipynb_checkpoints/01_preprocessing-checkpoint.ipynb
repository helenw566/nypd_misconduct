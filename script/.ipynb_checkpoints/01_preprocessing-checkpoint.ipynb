{
 "cells": [
  {
   "cell_type": "code",
   "execution_count": 85,
   "id": "322fbb98",
   "metadata": {},
   "outputs": [],
   "source": [
    "#library\n",
    "import pandas as pd\n",
    "import numpy as np\n",
    "import re\n",
    "from sklearn.preprocessing import StandardScaler\n",
    "from plotnine import *\n",
    "from sklearn.experimental import enable_iterative_imputer\n",
    "from sklearn.impute import IterativeImputer"
   ]
  },
  {
   "cell_type": "markdown",
   "id": "4d7c8e29",
   "metadata": {},
   "source": [
    "#### READING IN FILES"
   ]
  },
  {
   "cell_type": "code",
   "execution_count": 86,
   "id": "fe617f17",
   "metadata": {},
   "outputs": [],
   "source": [
    "#read in files\n",
    "allegations = pd.read_csv(\"../data/01_allegations.csv\")\n",
    "officers = pd.read_csv(\"../data/02_police_officers.csv\")\n",
    "complaints = pd.read_csv(\"../data/03_complaints.csv\")\n",
    "penalties = pd.read_csv(\"../data/04_penalties.csv\")\n",
    "mpv = pd.read_csv(\"../data/05_mapping_police_violence.csv\")"
   ]
  },
  {
   "cell_type": "code",
   "execution_count": 87,
   "id": "8070646b",
   "metadata": {
    "scrolled": false
   },
   "outputs": [
    {
     "name": "stdout",
     "output_type": "stream",
     "text": [
      "(397206, 18)\n",
      "(133117, 14)\n",
      "(92553, 14)\n",
      "(12865, 13)\n",
      "(14151, 61)\n"
     ]
    }
   ],
   "source": [
    "#dataset sizes\n",
    "print(allegations.shape)\n",
    "print(complaints.shape)\n",
    "print(officers.shape)\n",
    "print(penalties.shape)\n",
    "print(mpv.shape)\n",
    "\n",
    "#note that singular complaints can contain multiple allegations which is why dataframe shapes are different\n",
    "#individual officers can also be involved in multiple complaints/allegations (repeat offender)\n",
    "#penalties are only for officers whose charge was substantiated (guilty)"
   ]
  },
  {
   "cell_type": "markdown",
   "id": "263bf191",
   "metadata": {},
   "source": [
    "#### MERGING FILES"
   ]
  },
  {
   "cell_type": "code",
   "execution_count": 88,
   "id": "6038cb0e",
   "metadata": {},
   "outputs": [],
   "source": [
    "#merging inner since multiple allegations should be under singular complaint id\n",
    "temp = pd.merge(allegations, complaints, on = [\"Complaint Id\", \"As Of Date\"], how = \"inner\")"
   ]
  },
  {
   "cell_type": "code",
   "execution_count": 89,
   "id": "33910ad6",
   "metadata": {
    "scrolled": true
   },
   "outputs": [
    {
     "data": {
      "text/plain": [
       "(397206, 30)"
      ]
     },
     "execution_count": 89,
     "metadata": {},
     "output_type": "execute_result"
    }
   ],
   "source": [
    "#checks shape\n",
    "temp.shape"
   ]
  },
  {
   "cell_type": "code",
   "execution_count": 90,
   "id": "404ba200",
   "metadata": {},
   "outputs": [],
   "source": [
    "#merging left since penalties are only applied if complaint is substantiated\n",
    "temp_updated = pd.merge(temp, penalties, on = [\"Complaint Id\", \"As Of Date\", \"Tax ID\"], how = \"left\")"
   ]
  },
  {
   "cell_type": "code",
   "execution_count": 91,
   "id": "bd33eb27",
   "metadata": {
    "scrolled": true
   },
   "outputs": [
    {
     "data": {
      "text/plain": [
       "(397206, 40)"
      ]
     },
     "execution_count": 91,
     "metadata": {},
     "output_type": "execute_result"
    }
   ],
   "source": [
    "#checking shape\n",
    "temp_updated.shape"
   ]
  },
  {
   "cell_type": "code",
   "execution_count": 92,
   "id": "52fd22b4",
   "metadata": {},
   "outputs": [],
   "source": [
    "#merge inner since latter dataframe includes all officers on roster, including those who have 0 complaints/allegations\n",
    "#only keep officers who have complaints\n",
    "nypd = pd.merge(temp_updated, officers, on = [\"As Of Date\", \"Tax ID\"], how = \"inner\")"
   ]
  },
  {
   "cell_type": "code",
   "execution_count": 93,
   "id": "c42e4cac",
   "metadata": {},
   "outputs": [
    {
     "data": {
      "text/plain": [
       "(235939, 52)"
      ]
     },
     "execution_count": 93,
     "metadata": {},
     "output_type": "execute_result"
    }
   ],
   "source": [
    "#checking shape\n",
    "nypd.shape"
   ]
  },
  {
   "cell_type": "code",
   "execution_count": 94,
   "id": "c433b9a0",
   "metadata": {
    "scrolled": true
   },
   "outputs": [],
   "source": [
    "#filter mpv for nypd cases and instances where officer name is known \n",
    "mpv_filtered = (\n",
    "    mpv.query(\"(agency_responsible == 'New York Police Department') & (officer_names.notna())\")\n",
    "    .loc[:, ['officer_names', 'date']]\n",
    "    .assign(officer_names= lambda df: df[\"officer_names\"]\n",
    "            .astype(str)\n",
    "            .str.replace(\" and \", \",\")\n",
    "            .str.replace(\"(both fired weapons)\", \"\")\n",
    "            .str.split(','))\n",
    "    .explode('officer_names')\n",
    "    .reset_index(drop=True)\n",
    "    .assign(officer_names_lower = lambda df: df['officer_names']\n",
    "            .str.lower()\n",
    "            .str.strip())\n",
    "    .drop_duplicates()\n",
    "    .assign(in_news = lambda df: 1)\n",
    ")"
   ]
  },
  {
   "cell_type": "code",
   "execution_count": 95,
   "id": "e2a83a2d",
   "metadata": {
    "scrolled": true
   },
   "outputs": [],
   "source": [
    "#grabbing year\n",
    "mpv_filtered[\"year\"] = pd.to_datetime(mpv_filtered[\"date\"]).dt.year.astype(int)\n",
    "mpv_filtered.drop(columns = [\"date\"], inplace = True)\n",
    "nypd['year'] = nypd['Incident Date'].str[:4].astype(float).astype('Int64')"
   ]
  },
  {
   "cell_type": "code",
   "execution_count": 96,
   "id": "e8fda6d3",
   "metadata": {},
   "outputs": [],
   "source": [
    "#standard nypd names\n",
    "nypd = (\n",
    "    nypd.assign(officer_names = nypd[\"Officer First Name\"] + \" \" + nypd[\"Officer Last Name\"])\n",
    "    .assign(officer_names_lower = lambda df: df[\"officer_names\"].str.lower().str.strip())\n",
    ")"
   ]
  },
  {
   "cell_type": "code",
   "execution_count": 97,
   "id": "8b651b26",
   "metadata": {},
   "outputs": [],
   "source": [
    "#merge nypd and mpv by names\n",
    "nypd = pd.merge(nypd, mpv_filtered, on = [\"officer_names_lower\", \"officer_names\", \"year\"], how = \"left\")"
   ]
  },
  {
   "cell_type": "markdown",
   "id": "1b591d67",
   "metadata": {},
   "source": [
    "#### FILTERING DATASET"
   ]
  },
  {
   "cell_type": "code",
   "execution_count": 98,
   "id": "1c0b7a34",
   "metadata": {},
   "outputs": [
    {
     "name": "stderr",
     "output_type": "stream",
     "text": [
      "C:\\Users\\helen\\AppData\\Local\\Temp\\ipykernel_13616\\2215165747.py:4: RuntimeWarning: Engine has switched to 'python' because numexpr does not support extension array dtypes. Please set your engine to python manually.\n"
     ]
    }
   ],
   "source": [
    "#filter data between 2013-2020 -- media coverage data not avalaible for MPV before 2013. Cutoff at 2020 to avoid COVID/BLM\n",
    "#drops data with missing for year\n",
    "nypd.dropna(subset=['year'], inplace = True)\n",
    "nypd = nypd.query(\"year > 2013 & year < 2020\")"
   ]
  },
  {
   "cell_type": "code",
   "execution_count": 99,
   "id": "a3df7de1",
   "metadata": {
    "scrolled": true
   },
   "outputs": [
    {
     "data": {
      "text/plain": [
       "(52408, 56)"
      ]
     },
     "execution_count": 99,
     "metadata": {},
     "output_type": "execute_result"
    }
   ],
   "source": [
    "#checking shape\n",
    "nypd.shape"
   ]
  },
  {
   "cell_type": "code",
   "execution_count": 100,
   "id": "9371f758",
   "metadata": {
    "scrolled": false
   },
   "outputs": [
    {
     "data": {
      "text/plain": [
       "array(['Unsubstantiated', 'Substantiated (Command Discipline B)',\n",
       "       'Unfounded', 'Exonerated', 'Complaint Withdrawn',\n",
       "       'Complainant Uncooperative', 'Complainant Unavailable',\n",
       "       'Substantiated (Command Discipline A)',\n",
       "       'Alleged Victim Uncooperative',\n",
       "       'Substantiated (Formalized Training)', 'Substantiated (Charges)',\n",
       "       'Closed - Pending Litigation', 'Miscellaneous - Subject Retired',\n",
       "       'Substantiated (Command Lvl Instructions)',\n",
       "       'Substantiated (Instructions)', 'Alleged Victim Unavailable',\n",
       "       'Victim Unidentified', 'Miscellaneous - Subject Resigned',\n",
       "       'Substantiated (Command Discipline)', 'Officer(s) Unidentified',\n",
       "       'Miscellaneous', 'Unable to Determine',\n",
       "       'Substantiated (No Recommendations)', 'Witness Uncooperative',\n",
       "       'Miscellaneous - Subject Terminated', 'Within NYPD Guidelines'],\n",
       "      dtype=object)"
      ]
     },
     "execution_count": 100,
     "metadata": {},
     "output_type": "execute_result"
    }
   ],
   "source": [
    "nypd[\"CCRB Complaint Disposition\"].unique()"
   ]
  },
  {
   "cell_type": "code",
   "execution_count": 101,
   "id": "72d7d320",
   "metadata": {},
   "outputs": [],
   "source": [
    "#Recode case outcome options\n",
    "null_responses = [\"Complainant Uncooperative\", \"Complaint Withdrawn\", \"Complainant Unavailable\", \n",
    "                  \"Alleged Victim Uncooperative\", \"Alleged Victim Unavailable\", \"Miscellaneous - Subject Retired\",\n",
    "                 \"Victim Unidentified\", \"Unable to Determine\", \"Miscellaneous - Subject Resigned\", \"Officer(s) Unidentified\",\n",
    "                  \"Miscellaneous\", \"Miscellaneous - Subject Terminated\", \"Witness Uncooperative\", \"Closed - Pending Litigation\"]\n",
    "exonerated = [\"Within NYPD Guidelines\"]\n",
    "substantiated = [item for item in nypd[\"CCRB Complaint Disposition\"].unique() if item.startswith(\"Substantiated\")]"
   ]
  },
  {
   "cell_type": "code",
   "execution_count": 102,
   "id": "dd29c732",
   "metadata": {},
   "outputs": [],
   "source": [
    "#recode\n",
    "nypd['CCRB Complaint Disposition'] = (nypd['CCRB Complaint Disposition'].replace(\n",
    "        {option: np.nan for option in null_responses}\n",
    "    ).replace(\n",
    "        {option:\"Exonerated\" for option in exonerated}\n",
    "    ).replace(\n",
    "        {option:\"Substantiated\" for option in substantiated}\n",
    "    )\n",
    ")"
   ]
  },
  {
   "cell_type": "code",
   "execution_count": 103,
   "id": "6658bb49",
   "metadata": {},
   "outputs": [],
   "source": [
    "#drops na in case outcomes\n",
    "nypd.dropna(subset=['CCRB Complaint Disposition'], inplace = True)"
   ]
  },
  {
   "cell_type": "code",
   "execution_count": 104,
   "id": "4a3c5ab9",
   "metadata": {
    "scrolled": false
   },
   "outputs": [
    {
     "data": {
      "text/plain": [
       "(36666, 56)"
      ]
     },
     "execution_count": 104,
     "metadata": {},
     "output_type": "execute_result"
    }
   ],
   "source": [
    "#checks shape\n",
    "nypd.shape"
   ]
  },
  {
   "cell_type": "code",
   "execution_count": 105,
   "id": "3e3b54d9",
   "metadata": {},
   "outputs": [
    {
     "data": {
      "text/plain": [
       "in_news\n",
       "1.0    33\n",
       "Name: count, dtype: int64"
      ]
     },
     "execution_count": 105,
     "metadata": {},
     "output_type": "execute_result"
    }
   ],
   "source": [
    "#checks discrepancy\n",
    "nypd[\"in_news\"].value_counts()"
   ]
  },
  {
   "cell_type": "code",
   "execution_count": 106,
   "id": "49696c52",
   "metadata": {},
   "outputs": [],
   "source": [
    "#officer names to query nyt times with (sample of 4000)\n",
    "#nypd.query(\"in_news.isnull()\")[[\"officer_names_lower\", \"year\"]].drop_duplicates().sample(4000, random_state=42).to_csv(\"../data/officer_names.csv\", index = False)"
   ]
  },
  {
   "cell_type": "code",
   "execution_count": 107,
   "id": "ed35deeb",
   "metadata": {},
   "outputs": [],
   "source": [
    "#drops useless/redundant columns\n",
    "nypd.drop(columns = [\"As Of Date\",\"Complaint Officer Number\", \"Officer Rank Abbreviation At Incident\", \n",
    "                     \"Allegation\", \"Investigator Recommendation\",\"Close Date\", \"Board Discipline Recommendation\", \n",
    "                     \"Non-APU NYPD Penalty Report Date\",\"APU CCRB Trial Recommended Penalty\", \"APU Trial Commissioner Recommended Penalty\",\n",
    "                    \"APU Plea Agreed Penalty\", \"APU Case Status\", \"APU Closing Date\", \"Officer is_APU\",\n",
    "                    \"Current Rank Abbreviation\", \"Shield No\", \"Victim / Alleged Victim Race / Ethnicity\",\n",
    "                    \"CCRB Allegation Disposition\", \"NYPD Allegation Disposition\", \"CCRB Received Date\",\n",
    "                    \"CCRB Substantiated Officer Disposition\"], inplace = True)\n",
    "\n",
    "#drops dates, redundant id numbers, cols that abbreviate existing data\n",
    "#dropped allegation (text description) since FADO type already exists\n",
    "#drops recommendations since we have exact case outcomes and nypd has final say on penalty\n",
    "#drops race since legacy race is more appropriate to use in this case (legacy race is for cases before 2022)"
   ]
  },
  {
   "cell_type": "markdown",
   "id": "a33c32d6",
   "metadata": {},
   "source": [
    "#### RECODING VARIABLES"
   ]
  },
  {
   "cell_type": "code",
   "execution_count": 108,
   "id": "ad34e4e2",
   "metadata": {},
   "outputs": [
    {
     "data": {
      "text/plain": [
       "Victim/Alleged Victim Age Range At Incident\n",
       "24 < Age <= 29    5469\n",
       "29 < Age <= 34    5047\n",
       "20 < Age <= 24    3856\n",
       "34 < Age <= 39    3703\n",
       "39 < Age <= 44    2646\n",
       "44 < Age <= 49    2586\n",
       "49 < Age <= 54    2220\n",
       "17 < Age <= 20    1829\n",
       "54 < Age <= 59    1456\n",
       "14 < Age <= 17    1270\n",
       "59 < Age <= 64     655\n",
       "64 < Age <= 69     440\n",
       "09 < Age <= 14     413\n",
       "69 < Age <= 74     227\n",
       "74 < Age <= 79     123\n",
       "79 < Age <= 99      64\n",
       "00 < Age <= 09      34\n",
       "Name: count, dtype: int64"
      ]
     },
     "execution_count": 108,
     "metadata": {},
     "output_type": "execute_result"
    }
   ],
   "source": [
    "#checking dist\n",
    "nypd[\"Victim/Alleged Victim Age Range At Incident\"].value_counts()"
   ]
  },
  {
   "cell_type": "code",
   "execution_count": 109,
   "id": "64090270",
   "metadata": {},
   "outputs": [],
   "source": [
    "#new age intervals\n",
    "under_20 = ['00 < Age <= 09', '09 < Age <= 14', '14 < Age <= 17', '17 < Age <= 20']\n",
    "age_39_49 = ['39 < Age <= 44', '44 < Age <= 49']\n",
    "over_49 = ['49 < Age <= 54', '54 < Age <= 59', '59 < Age <= 64','64 < Age <= 69', '69 < Age <= 74', '74 < Age <= 79', '79 < Age <= 99']"
   ]
  },
  {
   "cell_type": "code",
   "execution_count": 110,
   "id": "4a00ef11",
   "metadata": {},
   "outputs": [],
   "source": [
    "#recode age intervals\n",
    "nypd['Victim/Alleged Victim Age Range At Incident'] = (nypd['Victim/Alleged Victim Age Range At Incident'].replace(\n",
    "        {option: 'Age <= 20' for option in under_20}\n",
    "    ).replace(\n",
    "        {option:'39 < Age <= 49' for option in age_39_49}\n",
    "    ).replace(\n",
    "        {option:'Age >= 49' for option in over_49}\n",
    "    )\n",
    ")"
   ]
  },
  {
   "cell_type": "code",
   "execution_count": 111,
   "id": "1e155c20",
   "metadata": {
    "scrolled": true
   },
   "outputs": [
    {
     "data": {
      "text/plain": [
       "Victim/Alleged Victim Age Range At Incident\n",
       "24 < Age <= 29    5469\n",
       "39 < Age <= 49    5232\n",
       "Age >= 49         5185\n",
       "29 < Age <= 34    5047\n",
       "20 < Age <= 24    3856\n",
       "34 < Age <= 39    3703\n",
       "Age <= 20         3546\n",
       "Name: count, dtype: int64"
      ]
     },
     "execution_count": 111,
     "metadata": {},
     "output_type": "execute_result"
    }
   ],
   "source": [
    "#checking new dist\n",
    "nypd[\"Victim/Alleged Victim Age Range At Incident\"].value_counts()"
   ]
  },
  {
   "cell_type": "code",
   "execution_count": 112,
   "id": "fad9795b",
   "metadata": {
    "scrolled": true
   },
   "outputs": [
    {
     "data": {
      "text/plain": [
       "Victim / Alleged Victim Race (Legacy)\n",
       "Black              16758\n",
       "Hispanic            7078\n",
       "White               4022\n",
       "Unknown             1578\n",
       "Other Race          1258\n",
       "Asian                947\n",
       "Refused              566\n",
       "American Indian      115\n",
       "Name: count, dtype: int64"
      ]
     },
     "execution_count": 112,
     "metadata": {},
     "output_type": "execute_result"
    }
   ],
   "source": [
    "#check dist\n",
    "nypd[\"Victim / Alleged Victim Race (Legacy)\"].value_counts()"
   ]
  },
  {
   "cell_type": "code",
   "execution_count": 113,
   "id": "c8b59e01",
   "metadata": {},
   "outputs": [],
   "source": [
    "#recode race variables\n",
    "unknown = [\"Unknown\", \"Other Race\", \"Refused\"]\n",
    "nypd['Victim / Alleged Victim Race (Legacy)'] = (nypd['Victim / Alleged Victim Race (Legacy)'].replace(\n",
    "        {option:\"Unknown\" for option in unknown}\n",
    "    )\n",
    ")"
   ]
  },
  {
   "cell_type": "code",
   "execution_count": 114,
   "id": "95c14c33",
   "metadata": {
    "scrolled": true
   },
   "outputs": [
    {
     "data": {
      "text/plain": [
       "Victim / Alleged Victim Race (Legacy)\n",
       "Black              16758\n",
       "Hispanic            7078\n",
       "White               4022\n",
       "Unknown             3402\n",
       "Asian                947\n",
       "American Indian      115\n",
       "Name: count, dtype: int64"
      ]
     },
     "execution_count": 114,
     "metadata": {},
     "output_type": "execute_result"
    }
   ],
   "source": [
    "#checking new dist\n",
    "nypd[\"Victim / Alleged Victim Race (Legacy)\"].value_counts()"
   ]
  },
  {
   "cell_type": "code",
   "execution_count": 115,
   "id": "b7024382",
   "metadata": {},
   "outputs": [],
   "source": [
    "#extracting month and dropping var\n",
    "nypd[\"month\"] = nypd[\"Incident Date\"].str[5:7]\n",
    "nypd.drop(columns = [\"Incident Date\"], inplace= True)"
   ]
  },
  {
   "cell_type": "code",
   "execution_count": 116,
   "id": "fa938537",
   "metadata": {},
   "outputs": [
    {
     "data": {
      "text/plain": [
       "month\n",
       "08    3487\n",
       "03    3369\n",
       "07    3341\n",
       "06    3310\n",
       "05    3195\n",
       "04    3169\n",
       "10    3029\n",
       "01    3011\n",
       "09    2965\n",
       "02    2845\n",
       "12    2473\n",
       "11    2448\n",
       "__      24\n",
       "Name: count, dtype: int64"
      ]
     },
     "execution_count": 116,
     "metadata": {},
     "output_type": "execute_result"
    }
   ],
   "source": [
    "#checking dist\n",
    "nypd[\"month\"].value_counts()"
   ]
  },
  {
   "cell_type": "code",
   "execution_count": 117,
   "id": "18ca93c8",
   "metadata": {
    "scrolled": true
   },
   "outputs": [
    {
     "data": {
      "text/plain": [
       "Location Type Of Incident\n",
       "Street/highway           18878\n",
       "Apartment/house           7651\n",
       "Residential building      2137\n",
       "Police building           2020\n",
       "NYCHA                     1508\n",
       "Commercial building       1329\n",
       "Subway station/train       883\n",
       "Other                      508\n",
       "Public space/building      401\n",
       "Park                       338\n",
       "Hospital                   244\n",
       "School                     191\n",
       "Police vehicle              83\n",
       "River or waterway           39\n",
       "Bus                         25\n",
       "Name: count, dtype: int64"
      ]
     },
     "execution_count": 117,
     "metadata": {},
     "output_type": "execute_result"
    }
   ],
   "source": [
    "#checking dist\n",
    "nypd[\"Location Type Of Incident\"].value_counts()"
   ]
  },
  {
   "cell_type": "code",
   "execution_count": 118,
   "id": "cbddfa7d",
   "metadata": {},
   "outputs": [],
   "source": [
    "#new categories\n",
    "residential = [\"Apartment/house\", \"Residential building\"]\n",
    "public_area = [\"Police building\", \"Commercial building\", \"NYCHA\", \"Public space/building\", \"Park\", \"Hospital\", \"School\"]\n",
    "in_transit = [\"Street/highway\", \"Bus\", \"River or waterway\", \"Police vehicle\", \"Subway station/train\"]"
   ]
  },
  {
   "cell_type": "code",
   "execution_count": 119,
   "id": "cc9a1982",
   "metadata": {},
   "outputs": [],
   "source": [
    "#recoding\n",
    "nypd[\"Location Type Of Incident\"] = (nypd[\"Location Type Of Incident\"].replace(\n",
    "        {option:\"residential\" for option in residential}\n",
    "    ).replace(\n",
    "        {option:\"public_area\" for option in public_area}\n",
    "    ).replace(\n",
    "        {option:\"transit\" for option in in_transit}\n",
    "    )\n",
    ")"
   ]
  },
  {
   "cell_type": "code",
   "execution_count": 120,
   "id": "fb093425",
   "metadata": {
    "scrolled": true
   },
   "outputs": [
    {
     "data": {
      "text/plain": [
       "Location Type Of Incident\n",
       "transit        19908\n",
       "residential     9788\n",
       "public_area     6031\n",
       "Other            508\n",
       "Name: count, dtype: int64"
      ]
     },
     "execution_count": 120,
     "metadata": {},
     "output_type": "execute_result"
    }
   ],
   "source": [
    "#checking categories\n",
    "nypd[\"Location Type Of Incident\"].value_counts()"
   ]
  },
  {
   "cell_type": "code",
   "execution_count": 121,
   "id": "30b032bc",
   "metadata": {
    "scrolled": true
   },
   "outputs": [
    {
     "data": {
      "text/plain": [
       "Reason for Police Contact\n",
       "PD suspected C/V of violation/crime - street                  8096\n",
       "PD suspected C/V of violation/crime - auto                    3090\n",
       "PD suspected C/V of violation/crime - bldg                    2658\n",
       "Moving violation                                              2380\n",
       "Other                                                         2326\n",
       "Report of other crime                                         2060\n",
       "Report-dispute                                                1883\n",
       "Execution of search warrant                                   1634\n",
       "Other violation of VTL                                        1532\n",
       "Report-domestic dispute                                       1494\n",
       "EDP aided case                                                1243\n",
       "Execution of arrest/bench warrant                             1135\n",
       "PD suspected C/V of violation/crime - subway                   751\n",
       "Parking violation                                              682\n",
       "C/V requested investigation of crime                           656\n",
       "Aided case                                                     646\n",
       "Report-gun possession/shots fired                              640\n",
       "C/V intervened on behalf of/observed encounter w/3rd party     631\n",
       "CV already in custody                                          380\n",
       "Report-noise/disturbance                                       367\n",
       "C/V at PCT to obtain information                               324\n",
       "C/V at PCT to file complaint of crime                          323\n",
       "Traffic accident                                               271\n",
       "Report-possession/sale of narcotics                            254\n",
       "C/V telephoned PCT                                             251\n",
       "C/V requested info from officer                                158\n",
       "Assist ACS or other agency                                     157\n",
       "C/V at PCT to retrieve property                                128\n",
       "Parade/special event                                            77\n",
       "PD telephones CV                                                59\n",
       "Demonstration/protest                                           57\n",
       "Regulatory inspection                                           51\n",
       "PD auto checkpoint                                              31\n",
       "No contact                                                      25\n",
       "EDP Aided Cases                                                 10\n",
       "Transit checkpoint                                               9\n",
       "Report of Disturbance/Noise Complaint                            5\n",
       "Others                                                           3\n",
       "Patrol Encounter                                                 2\n",
       "Name: count, dtype: int64"
      ]
     },
     "execution_count": 121,
     "metadata": {},
     "output_type": "execute_result"
    }
   ],
   "source": [
    "#checking categories\n",
    "nypd[\"Reason for Police Contact\"].value_counts()"
   ]
  },
  {
   "cell_type": "code",
   "execution_count": 122,
   "id": "f1708b6b",
   "metadata": {},
   "outputs": [],
   "source": [
    "#recode missing\n",
    "nypd[\"Reason for Police Contact\"] = nypd[\"Reason for Police Contact\"].apply(lambda x: \"Missing\" if pd.isnull(x) else x)"
   ]
  },
  {
   "cell_type": "code",
   "execution_count": 123,
   "id": "641d9bb9",
   "metadata": {},
   "outputs": [],
   "source": [
    "#new categories\n",
    "crime_suspect = [item for item in nypd[\"Reason for Police Contact\"].unique() if item.startswith(\"PD suspected C/V of violation/crime\")]\n",
    "cv_initiated = [item for item in nypd[\"Reason for Police Contact\"].unique() if item.startswith(\"C/V\")]\n",
    "report = [item for item in nypd[\"Reason for Police Contact\"].unique() if item.startswith(\"Report\")]\n",
    "execution = [item for item in nypd[\"Reason for Police Contact\"].unique() if \"Execution\" in item]\n",
    "violation = [item for item in nypd[\"Reason for Police Contact\"].unique() if \"violation\" in item]\n",
    "aid = [item for item in nypd[\"Reason for Police Contact\"].unique() if \"aided\" in item or \"Aided\" in item or \"Assist\" in item]"
   ]
  },
  {
   "cell_type": "code",
   "execution_count": 124,
   "id": "78bba058",
   "metadata": {},
   "outputs": [],
   "source": [
    "#create set of all categories already used\n",
    "recode_list = [crime_suspect, cv_initiated, report, execution, violation, aid]\n",
    "flat_list = {item for sublist in recode_list for item in sublist}"
   ]
  },
  {
   "cell_type": "code",
   "execution_count": 125,
   "id": "21d03b95",
   "metadata": {},
   "outputs": [],
   "source": [
    "#list of categories that haven't been assigned\n",
    "other_list = [item for item in nypd[\"Reason for Police Contact\"].unique() if item not in flat_list and item != \"Missing\"]"
   ]
  },
  {
   "cell_type": "code",
   "execution_count": 126,
   "id": "d85999b5",
   "metadata": {},
   "outputs": [],
   "source": [
    "#recode\n",
    "nypd[\"Reason for Police Contact\"] = (nypd[\"Reason for Police Contact\"].replace(\n",
    "        {option:\"Suspect of Crime\" for option in crime_suspect}\n",
    "    ).replace(\n",
    "        {option:\"C/V involved\" for option in cv_initiated}\n",
    "    ).replace(\n",
    "        {option:\"Report\" for option in report}\n",
    "    ).replace(\n",
    "        {option:np.nan for option in \"Missing\"}\n",
    "    ).replace(\n",
    "        {option:\"Executed Action\" for option in execution}\n",
    "    ).replace(\n",
    "        {option:\"Violation\" for option in violation}\n",
    "    ).replace(\n",
    "        {option:\"Aid\" for option in aid}\n",
    "    ).replace(\n",
    "        {option:\"Other\" for option in other_list}\n",
    "    ).replace(\n",
    "        {option:np.nan for option in [\"Missing\"]}\n",
    "    )\n",
    ")"
   ]
  },
  {
   "cell_type": "code",
   "execution_count": 127,
   "id": "46b0347b",
   "metadata": {
    "scrolled": true
   },
   "outputs": [
    {
     "data": {
      "text/plain": [
       "Reason for Police Contact\n",
       "Suspect of Crime    14595\n",
       "Report               6703\n",
       "Violation            4594\n",
       "Other                3291\n",
       "Executed Action      2769\n",
       "C/V involved         2471\n",
       "Aid                  2056\n",
       "Name: count, dtype: int64"
      ]
     },
     "execution_count": 127,
     "metadata": {},
     "output_type": "execute_result"
    }
   ],
   "source": [
    "#check new dist\n",
    "nypd[\"Reason for Police Contact\"].value_counts()"
   ]
  },
  {
   "cell_type": "code",
   "execution_count": 128,
   "id": "b0ab6a5b",
   "metadata": {
    "scrolled": true
   },
   "outputs": [
    {
     "data": {
      "text/plain": [
       "Outcome Of Police Encounter\n",
       "No arrest made or summons issued        14256\n",
       "Arrest - other violation/crime          13552\n",
       "Summons - other violation/crime          1991\n",
       "Arrest - resisting arrest                1847\n",
       "Moving violation summons issued          1135\n",
       "Summons - disorderly conduct             1019\n",
       "Arrest - assault (against a PO)           831\n",
       "Other VTL violation summons issued        657\n",
       "Arrest - disorderly conduct               449\n",
       "Parking summons issued                    366\n",
       "Arrest - OGA                              263\n",
       "Juvenile Report                           140\n",
       "Arrest - harrassment (against a PO)         8\n",
       "Summons - harrassment (against a PO)        2\n",
       "Name: count, dtype: int64"
      ]
     },
     "execution_count": 128,
     "metadata": {},
     "output_type": "execute_result"
    }
   ],
   "source": [
    "#check dist\n",
    "nypd[\"Outcome Of Police Encounter\"].value_counts()"
   ]
  },
  {
   "cell_type": "code",
   "execution_count": 129,
   "id": "7abd8390",
   "metadata": {},
   "outputs": [],
   "source": [
    "#code missing and new categories\n",
    "nypd[\"Outcome Of Police Encounter\"] = nypd[\"Outcome Of Police Encounter\"].apply(lambda x: \"Missing\" if pd.isnull(x) else x)\n",
    "arrest = [item for item in nypd[\"Outcome Of Police Encounter\"].unique() if item.startswith(\"Arrest\")]\n",
    "summons = [item for item in nypd[\"Outcome Of Police Encounter\"].unique() if (\"Summons\" in item or \"summons\" in item) and item != \"No arrest made or summons issued\"]"
   ]
  },
  {
   "cell_type": "code",
   "execution_count": 130,
   "id": "3982d739",
   "metadata": {},
   "outputs": [],
   "source": [
    "#recode\n",
    "nypd[\"Outcome Of Police Encounter\"] = (nypd[\"Outcome Of Police Encounter\"].replace(\n",
    "        {option:\"Arrest\" for option in arrest}\n",
    "    ).replace(\n",
    "        {option:\"Summons\" for option in summons}\n",
    "    ).replace(\n",
    "        {option:np.nan for option in [\"Missing\"]}\n",
    "    )\n",
    ")"
   ]
  },
  {
   "cell_type": "code",
   "execution_count": 131,
   "id": "a9528107",
   "metadata": {},
   "outputs": [],
   "source": [
    "#grab year and drop variables\n",
    "nypd[\"Last Reported Active Year\"] = pd.to_datetime(nypd[\"Last Reported Active Date\"]).dt.year\n",
    "nypd.drop(columns = [\"Last Reported Active Date\"], inplace = True)"
   ]
  },
  {
   "cell_type": "code",
   "execution_count": 132,
   "id": "2aef2b12",
   "metadata": {},
   "outputs": [],
   "source": [
    "#new var to see if rank has changed\n",
    "nypd[\"Rank Changed\"] = np.where(nypd[\"Current Rank\"] == nypd[\"Officer Rank At Incident\"], 0, 1)"
   ]
  },
  {
   "cell_type": "code",
   "execution_count": 133,
   "id": "3e4416b7",
   "metadata": {},
   "outputs": [],
   "source": [
    "#new var to see if command has changed\n",
    "nypd[\"Command Changed\"] = np.where(nypd[\"Current Command\"] == nypd[\"Officer Command At Incident\"], 0, 1)"
   ]
  },
  {
   "cell_type": "code",
   "execution_count": 134,
   "id": "eebe1960",
   "metadata": {
    "scrolled": true
   },
   "outputs": [
    {
     "data": {
      "text/plain": [
       "Total Complaints\n",
       "3     4331\n",
       "2     4158\n",
       "4     3700\n",
       "5     3310\n",
       "1     3298\n",
       "6     2850\n",
       "7     2651\n",
       "8     2102\n",
       "9     1719\n",
       "11    1224\n",
       "10    1215\n",
       "12     978\n",
       "13     830\n",
       "14     730\n",
       "16     564\n",
       "15     540\n",
       "17     382\n",
       "19     335\n",
       "20     330\n",
       "18     270\n",
       "21     191\n",
       "23     120\n",
       "26     118\n",
       "28     101\n",
       "31      93\n",
       "22      92\n",
       "29      69\n",
       "40      62\n",
       "25      61\n",
       "24      59\n",
       "34      57\n",
       "41      47\n",
       "27      43\n",
       "32      17\n",
       "35      16\n",
       "39       2\n",
       "30       1\n",
       "Name: count, dtype: int64"
      ]
     },
     "execution_count": 134,
     "metadata": {},
     "output_type": "execute_result"
    }
   ],
   "source": [
    "#dist\n",
    "nypd[\"Total Complaints\"].value_counts()"
   ]
  },
  {
   "cell_type": "code",
   "execution_count": 135,
   "id": "118be96a",
   "metadata": {
    "scrolled": true
   },
   "outputs": [
    {
     "data": {
      "text/plain": [
       "[nan,\n",
       " 'Command Discipline - A',\n",
       " 'Formalized Training',\n",
       " 'Vacation: 10 days',\n",
       " 'Instructions',\n",
       " 'Forfeit vacation 18 days',\n",
       " 'Forfeit vacation 2 days',\n",
       " 'No penalty',\n",
       " 'Closed Administratively (No penalty reported)',\n",
       " 'Command Discipline - B',\n",
       " 'Forfeit vacation 7 days',\n",
       " 'Forfeit vacation 3 days / Command Discipline A',\n",
       " 'Forfeit vacation 25 days',\n",
       " 'Forfeit vacation 10 days',\n",
       " 'Suspension: 30 days / Vacation: 25 days / Dismissal Probation 360 days',\n",
       " 'APU - Decision Pending',\n",
       " 'Forfeit vacation 20 days',\n",
       " 'Forfeit vacation 30 days',\n",
       " 'Forfeit vacation 15 days',\n",
       " 'Forfeit vacation 5 days',\n",
       " 'Retired',\n",
       " 'Formalized Training / Command Level Instructions',\n",
       " 'Forfeit vacation 8 days',\n",
       " 'Forfeit vacation 2 days / Command Discipline A',\n",
       " 'Forfeit vacation 4 days',\n",
       " 'Dismissal Probation / Forfeit vacation 15 days',\n",
       " 'Vacation: 25 days',\n",
       " 'Forfeit vacation 5 days / Command Discipline A',\n",
       " 'Command Discipline A',\n",
       " 'Resigned',\n",
       " 'Dismissal Probation 365 days / Suspension 30 days / Forfeit vacation 45 days',\n",
       " 'Command Level Instructions',\n",
       " 'Command Discipline - B (Vacation: 6 days)',\n",
       " 'Command Discipline - B (Vacation: 7 days)',\n",
       " 'Reprimand',\n",
       " 'Forfeit vacation 1 days',\n",
       " 'Formalized Training / Instructions',\n",
       " 'Forfeit vacation 10 days / Formalized Training',\n",
       " 'Command Discipline - B (Vacation: 10 days)',\n",
       " 'Forfeit vacation 9 days',\n",
       " 'Dismissed',\n",
       " 'Command Discipline - A (Vacation: 0.50 days)',\n",
       " 'Forfeit vacation 6 days',\n",
       " 'Command Discipline B',\n",
       " 'Command Discipline - B (Vacation: 3 days)',\n",
       " 'Command Discipline - A / Command Level Instructions',\n",
       " 'Forfeit vacation 10 days / Command Discipline B',\n",
       " 'Vacation: 3 days',\n",
       " 'Forfeit vacation 3 days',\n",
       " 'Forfeit vacation 5 days / Command Discipline B',\n",
       " 'Command Discipline - B (Vacation: 5 days)',\n",
       " 'Command Discipline - A (Vacation: 3 days)',\n",
       " 'Terminated',\n",
       " 'Command Discipline - A (Vacation: 1 day)',\n",
       " 'Dismissal Probation',\n",
       " 'Forfeit vacation 6 days / Command Discipline B',\n",
       " 'Suspension 10 days / Forfeit vacation 15 days',\n",
       " 'Forfeit vacation 9 days / Command Discipline B',\n",
       " 'Dismissal Probation 365 days',\n",
       " 'Vacation: 5 days',\n",
       " 'Vacation: 15 days',\n",
       " 'Command Discipline - B (Vacation: 8 days)',\n",
       " 'Instructions / Formalized Training',\n",
       " 'Forfeit vacation 28 days',\n",
       " 'Forfeit vacation 7 days / Command Discipline B',\n",
       " 'Command Discipline - B (Vacation: 2 days)',\n",
       " 'Forfeit vacation 5 days / Formalized Training',\n",
       " 'Vacation: 30 days / Probation: 360 days',\n",
       " 'Dismissal Probation 30 days',\n",
       " 'Forfeit vacation 16 days',\n",
       " 'Forfeit vacation 12 days',\n",
       " 'Command Discipline - A / Formalized Training',\n",
       " 'Forfeit vacation 1 days / Command Discipline A',\n",
       " 'Forfeit vacation 13 days',\n",
       " 'Forfeit vacation 17 days',\n",
       " 'Command Discipline - B (Vacation: 4 days)',\n",
       " 'Forfeit vacation 11 days',\n",
       " 'Vacation: 1 day',\n",
       " 'Suspension 10 days / Forfeit vacation 10 days',\n",
       " 'Dismissal Probation 365 days / Suspension 20 days',\n",
       " 'Closed Administratively (Command Discipline - B)',\n",
       " 'Command Discipline - B (Vacation: 1 day)',\n",
       " 'Command Discipline - A (Vacation: 0.13 days)',\n",
       " 'Forfeit vacation 45 days',\n",
       " 'Suspension 25 days',\n",
       " 'Suspension 10 days / Forfeit vacation 25 days',\n",
       " 'Command Discipline A / Formalized Training',\n",
       " 'Forfeit vacation 8 days / Command Discipline B',\n",
       " 'Command Discipline - A / Instructions',\n",
       " 'Command Discipline - A (Vacation: 5 days)',\n",
       " 'Dismissal Probation / Forfeit vacation 25 days',\n",
       " 'Suspension 10 days',\n",
       " 'Suspension 15 days',\n",
       " 'Warned and admonished',\n",
       " 'Suspension 60 days',\n",
       " 'Forfeit vacation 2 days / Formalized Training',\n",
       " 'Command Discipline - B / Command Level Instructions',\n",
       " 'Suspension: 30 days / Vacation: 15 days / Probation: 30 days',\n",
       " 'Forfeit vacation 19 days',\n",
       " 'Vacation: 3 days / Formalized Training',\n",
       " 'Vacation: 4 days / Formalized Training']"
      ]
     },
     "execution_count": 135,
     "metadata": {},
     "output_type": "execute_result"
    }
   ],
   "source": [
    "#list of penalities\n",
    "nypd[\"NYPD Officer Penalty\"].unique().tolist()"
   ]
  },
  {
   "cell_type": "code",
   "execution_count": 136,
   "id": "6041e564",
   "metadata": {},
   "outputs": [],
   "source": [
    "#featuring capturing if more than 1 penalty\n",
    "nypd[\"PenaltyCount\"] = np.where(nypd[\"NYPD Officer Penalty\"].str.contains(\"/\", case=False, na=False), \"2+\", \"1\") #2 = more than 1, 1 = 1 penalty\n",
    "nypd[\"PenaltyCount\"] = np.where(nypd[\"NYPD Officer Penalty\"].str.contains(\"No penalty\", case=False, na=False), \"0\", nypd[\"PenaltyCount\"])\n",
    "nypd[\"PenaltyCount\"] = np.where(nypd[\"NYPD Officer Penalty\"].isna(), \"Not Applicable\", nypd[\"PenaltyCount\"])"
   ]
  },
  {
   "cell_type": "code",
   "execution_count": 137,
   "id": "64524df8",
   "metadata": {
    "scrolled": true
   },
   "outputs": [
    {
     "data": {
      "text/plain": [
       "PenaltyCount\n",
       "Not Applicable    27541\n",
       "1                  7627\n",
       "0                  1202\n",
       "2+                  296\n",
       "Name: count, dtype: int64"
      ]
     },
     "execution_count": 137,
     "metadata": {},
     "output_type": "execute_result"
    }
   ],
   "source": [
    "#check dist\n",
    "nypd[\"PenaltyCount\"].value_counts()"
   ]
  },
  {
   "cell_type": "code",
   "execution_count": 138,
   "id": "6ca4bdc8",
   "metadata": {},
   "outputs": [],
   "source": [
    "#initiate empty new col for penalty recoded\n",
    "nypd[\"PenaltyRecoded\"] = np.nan"
   ]
  },
  {
   "cell_type": "code",
   "execution_count": 139,
   "id": "a5d8b711",
   "metadata": {},
   "outputs": [],
   "source": [
    "#dummy code all penalties\n",
    "nypd[\"NYPD Officer Penalty_Vacation Loss\"] = np.where(nypd[\"NYPD Officer Penalty\"].str.contains(\"vacation\", case=False, na=False), 1, 0)\n",
    "nypd[\"NYPD Officer Penalty_Command Discipline A\"] = np.where(nypd[\"NYPD Officer Penalty\"].str.contains(\"Command Discipline - A\", case=False, na=False), 1, 0)\n",
    "nypd[\"NYPD Officer Penalty_Command Discipline B\"] = np.where(nypd[\"NYPD Officer Penalty\"].str.contains(\"Command Discipline - B\", case=False, na=False), 1, 0)\n",
    "nypd[\"NYPD Officer Penalty_Formalized Training\"] = np.where(nypd[\"NYPD Officer Penalty\"].str.contains(\"Formalized Training\", case=False, na=False), 1, 0)\n",
    "nypd[\"NYPD Officer Penalty_Instructions\"] = np.where(nypd[\"NYPD Officer Penalty\"].str.contains(\"Instructions|Command Level Instructions\", case=False, na=False), 1, 0)\n",
    "nypd[\"NYPD Officer Penalty_None\"] = np.where(nypd[\"NYPD Officer Penalty\"].str.contains(\"No penalty\", case=False, na=False), 1, 0)\n",
    "nypd[\"NYPD Officer Penalty_Left\"] = np.where(nypd[\"NYPD Officer Penalty\"].str.contains(\"Resigned|Terminated|Retired|Dismissed\", case=False, na=False), 1, 0)\n",
    "nypd[\"NYPD Officer Penalty_Other\"] = np.where(nypd[\"NYPD Officer Penalty\"].str.contains(\"Reprimand|Warned and admonished|Probation|Suspension\", case=False, na=False), 1, 0)"
   ]
  },
  {
   "cell_type": "code",
   "execution_count": 140,
   "id": "ad25a64f",
   "metadata": {},
   "outputs": [],
   "source": [
    "#recode penalty to most severe penalty\n",
    "nypd[\"PenaltyRecoded\"] = np.where(nypd[\"NYPD Officer Penalty_None\"] == 1, \"No Penalty\", nypd[\"PenaltyRecoded\"])\n",
    "nypd[\"PenaltyRecoded\"] = np.where(nypd[\"NYPD Officer Penalty_Instructions\"] == 1, \"Instructions\", nypd[\"PenaltyRecoded\"])\n",
    "nypd[\"PenaltyRecoded\"] = np.where(nypd[\"NYPD Officer Penalty_Formalized Training\"] == 1, \"Formalized Training\", nypd[\"PenaltyRecoded\"])\n",
    "nypd[\"PenaltyRecoded\"] = np.where(nypd[\"NYPD Officer Penalty_Other\"] == 1, \"Other\", nypd[\"PenaltyRecoded\"])\n",
    "nypd[\"PenaltyRecoded\"] = np.where(nypd[\"NYPD Officer Penalty_Vacation Loss\"] == 1, \"Vacation Loss\", nypd[\"PenaltyRecoded\"])\n",
    "nypd[\"PenaltyRecoded\"] = np.where(nypd[\"NYPD Officer Penalty_Command Discipline A\"] == 1, \"Command Discipline A\", nypd[\"PenaltyRecoded\"])\n",
    "nypd[\"PenaltyRecoded\"] = np.where(nypd[\"NYPD Officer Penalty_Command Discipline B\"] == 1, \"Command Discipline B\", nypd[\"PenaltyRecoded\"])\n",
    "nypd[\"PenaltyRecoded\"] = np.where(nypd[\"NYPD Officer Penalty_Left\"] == 1, \"Terminated\", nypd[\"PenaltyRecoded\"])\n",
    "nypd[\"PenaltyRecoded\"] = np.where(nypd[\"PenaltyRecoded\"] == \"nan\", \"Not Applicable\", nypd[\"PenaltyRecoded\"] )"
   ]
  },
  {
   "cell_type": "code",
   "execution_count": 141,
   "id": "7c3bdb41",
   "metadata": {
    "scrolled": true
   },
   "outputs": [
    {
     "data": {
      "text/plain": [
       "PenaltyRecoded\n",
       "Not Applicable          27756\n",
       "Formalized Training      2530\n",
       "Command Discipline A     1794\n",
       "Instructions             1409\n",
       "No Penalty               1202\n",
       "Vacation Loss            1180\n",
       "Command Discipline B      507\n",
       "Terminated                216\n",
       "Other                      72\n",
       "Name: count, dtype: int64"
      ]
     },
     "execution_count": 141,
     "metadata": {},
     "output_type": "execute_result"
    }
   ],
   "source": [
    "#check dist\n",
    "nypd[\"PenaltyRecoded\"].value_counts()"
   ]
  },
  {
   "cell_type": "code",
   "execution_count": 142,
   "id": "5c3d4519",
   "metadata": {},
   "outputs": [],
   "source": [
    "#drop cols\n",
    "nypd_penalty_cols = [col for col in nypd.columns if \"NYPD Officer Penalty\" in col]\n",
    "nypd = nypd.drop(columns = nypd_penalty_cols)"
   ]
  },
  {
   "cell_type": "code",
   "execution_count": 143,
   "id": "cb095cc4",
   "metadata": {},
   "outputs": [],
   "source": [
    "#normalize total complaints\n",
    "scaler = StandardScaler()\n",
    "nypd['Total Complaints_z_score'] = scaler.fit_transform(nypd[['Total Complaints']])"
   ]
  },
  {
   "cell_type": "code",
   "execution_count": 144,
   "id": "9e6d8ecb",
   "metadata": {
    "scrolled": true
   },
   "outputs": [
    {
     "data": {
      "text/plain": [
       "Total Substantiated Complaints\n",
       "0     15726\n",
       "1     10758\n",
       "2      4978\n",
       "3      2378\n",
       "4      1178\n",
       "5       688\n",
       "7       288\n",
       "6       250\n",
       "8       182\n",
       "9       138\n",
       "13       61\n",
       "10       25\n",
       "16       16\n",
       "Name: count, dtype: int64"
      ]
     },
     "execution_count": 144,
     "metadata": {},
     "output_type": "execute_result"
    }
   ],
   "source": [
    "#check dist\n",
    "nypd[\"Total Substantiated Complaints\"].value_counts()"
   ]
  },
  {
   "cell_type": "code",
   "execution_count": 145,
   "id": "f3a9e9a6",
   "metadata": {},
   "outputs": [],
   "source": [
    "#normalize total substantiated complaints\n",
    "scaler = StandardScaler()\n",
    "nypd['Total Substantiated Complaints_z_score'] = scaler.fit_transform(nypd[['Total Substantiated Complaints']])"
   ]
  },
  {
   "cell_type": "code",
   "execution_count": 146,
   "id": "389e0f60",
   "metadata": {},
   "outputs": [],
   "source": [
    "#normalize days on force\n",
    "scaler = StandardScaler()\n",
    "nypd[\"Officer Days On Force At Incident_zscore\"] = scaler.fit_transform(nypd[[\"Officer Days On Force At Incident\"]])"
   ]
  },
  {
   "cell_type": "markdown",
   "id": "fc025fee",
   "metadata": {},
   "source": [
    "#### Adding the NYT Data (Preliminary)"
   ]
  },
  {
   "cell_type": "code",
   "execution_count": 147,
   "id": "a9bbc9ec",
   "metadata": {},
   "outputs": [],
   "source": [
    "#reading in nyt results\n",
    "nyt = pd.read_csv(\"../data/nyt_api_results.csv\")"
   ]
  },
  {
   "cell_type": "code",
   "execution_count": 148,
   "id": "a80a2580",
   "metadata": {},
   "outputs": [
    {
     "data": {
      "text/plain": [
       "(4000, 3)"
      ]
     },
     "execution_count": 148,
     "metadata": {},
     "output_type": "execute_result"
    }
   ],
   "source": [
    "#shape of data\n",
    "nyt.shape"
   ]
  },
  {
   "cell_type": "code",
   "execution_count": 149,
   "id": "2dcf02b1",
   "metadata": {},
   "outputs": [],
   "source": [
    "#merge data, grabbing only the officers/years and associated allegations/complaints\n",
    "nypd_nyt = pd.merge(nypd, nyt, on = [\"officer_names_lower\", \"year\"], how = \"right\")"
   ]
  },
  {
   "cell_type": "code",
   "execution_count": 150,
   "id": "e7f3aef4",
   "metadata": {
    "scrolled": true
   },
   "outputs": [
    {
     "data": {
      "text/plain": [
       "(10322, 42)"
      ]
     },
     "execution_count": 150,
     "metadata": {},
     "output_type": "execute_result"
    }
   ],
   "source": [
    "#checking shape\n",
    "nypd_nyt.shape"
   ]
  },
  {
   "cell_type": "code",
   "execution_count": 151,
   "id": "9fbf38d0",
   "metadata": {},
   "outputs": [
    {
     "data": {
      "text/plain": [
       "CCRB Complaint Disposition\n",
       "Unsubstantiated    4994\n",
       "Substantiated      3720\n",
       "Exonerated          992\n",
       "Unfounded           616\n",
       "Name: count, dtype: int64"
      ]
     },
     "execution_count": 151,
     "metadata": {},
     "output_type": "execute_result"
    }
   ],
   "source": [
    "#check target dist\n",
    "nypd_nyt[\"CCRB Complaint Disposition\"].value_counts()"
   ]
  },
  {
   "cell_type": "code",
   "execution_count": 152,
   "id": "b8709c9f",
   "metadata": {},
   "outputs": [],
   "source": [
    "#add to in_news\n",
    "nypd_nyt[\"in_news\"] = np.where(nypd_nyt[\"news_hits\"] > 0, 1, nypd_nyt[\"in_news\"])"
   ]
  },
  {
   "cell_type": "code",
   "execution_count": 153,
   "id": "fa120804",
   "metadata": {
    "scrolled": true
   },
   "outputs": [
    {
     "data": {
      "text/plain": [
       "in_news\n",
       "1.0    201\n",
       "Name: count, dtype: int64"
      ]
     },
     "execution_count": 153,
     "metadata": {},
     "output_type": "execute_result"
    }
   ],
   "source": [
    "#check counts\n",
    "nypd_nyt[\"in_news\"].value_counts()"
   ]
  },
  {
   "cell_type": "markdown",
   "id": "9ba61a87",
   "metadata": {},
   "source": [
    "#### Descriptives"
   ]
  },
  {
   "cell_type": "code",
   "execution_count": 154,
   "id": "63de8d34",
   "metadata": {},
   "outputs": [
    {
     "data": {
      "text/html": [
       "<div>\n",
       "<style scoped>\n",
       "    .dataframe tbody tr th:only-of-type {\n",
       "        vertical-align: middle;\n",
       "    }\n",
       "\n",
       "    .dataframe tbody tr th {\n",
       "        vertical-align: top;\n",
       "    }\n",
       "\n",
       "    .dataframe thead th {\n",
       "        text-align: right;\n",
       "    }\n",
       "</style>\n",
       "<table border=\"1\" class=\"dataframe\">\n",
       "  <thead>\n",
       "    <tr style=\"text-align: right;\">\n",
       "      <th></th>\n",
       "      <th>CCRB Complaint Disposition</th>\n",
       "      <th>count</th>\n",
       "    </tr>\n",
       "  </thead>\n",
       "  <tbody>\n",
       "    <tr>\n",
       "      <th>0</th>\n",
       "      <td>Unsubstantiated</td>\n",
       "      <td>4994</td>\n",
       "    </tr>\n",
       "    <tr>\n",
       "      <th>1</th>\n",
       "      <td>Substantiated</td>\n",
       "      <td>3720</td>\n",
       "    </tr>\n",
       "    <tr>\n",
       "      <th>2</th>\n",
       "      <td>Exonerated</td>\n",
       "      <td>992</td>\n",
       "    </tr>\n",
       "    <tr>\n",
       "      <th>3</th>\n",
       "      <td>Unfounded</td>\n",
       "      <td>616</td>\n",
       "    </tr>\n",
       "  </tbody>\n",
       "</table>\n",
       "</div>"
      ],
      "text/plain": [
       "  CCRB Complaint Disposition  count\n",
       "0            Unsubstantiated   4994\n",
       "1              Substantiated   3720\n",
       "2                 Exonerated    992\n",
       "3                  Unfounded    616"
      ]
     },
     "execution_count": 154,
     "metadata": {},
     "output_type": "execute_result"
    }
   ],
   "source": [
    "nypd_nyt[\"CCRB Complaint Disposition\"].value_counts().reset_index()"
   ]
  },
  {
   "cell_type": "code",
   "execution_count": 155,
   "id": "b654f0b6",
   "metadata": {
    "scrolled": true
   },
   "outputs": [
    {
     "data": {
      "image/png": "[encoded data removed]"
     },
     "metadata": {
      "image/png": {
       "height": 480,
       "width": 640
      }
     },
     "output_type": "display_data"
    }
   ],
   "source": [
    "(\n",
    "ggplot(data = nypd_nyt[\"CCRB Complaint Disposition\"].value_counts().reset_index()) +\n",
    "    geom_col(aes(x = \"CCRB Complaint Disposition\", \n",
    "                 y = \"count\", \n",
    "                fill = \"CCRB Complaint Disposition\")) +\n",
    "    labs(title = \"Distribution for CCRB Complaint Disposition\",\n",
    "        x = \"Disposition Type\",\n",
    "        y = \"Count\") +\n",
    "    theme(axis_text_x = element_text(angle = 45))\n",
    "\n",
    ")"
   ]
  },
  {
   "cell_type": "code",
   "execution_count": 156,
   "id": "6b66ab89",
   "metadata": {
    "scrolled": true
   },
   "outputs": [
    {
     "data": {
      "text/html": [
       "<div>\n",
       "<style scoped>\n",
       "    .dataframe tbody tr th:only-of-type {\n",
       "        vertical-align: middle;\n",
       "    }\n",
       "\n",
       "    .dataframe tbody tr th {\n",
       "        vertical-align: top;\n",
       "    }\n",
       "\n",
       "    .dataframe thead th {\n",
       "        text-align: right;\n",
       "    }\n",
       "</style>\n",
       "<table border=\"1\" class=\"dataframe\">\n",
       "  <thead>\n",
       "    <tr style=\"text-align: right;\">\n",
       "      <th></th>\n",
       "      <th>PenaltyRecoded</th>\n",
       "      <th>count</th>\n",
       "    </tr>\n",
       "  </thead>\n",
       "  <tbody>\n",
       "    <tr>\n",
       "      <th>0</th>\n",
       "      <td>Not Applicable</td>\n",
       "      <td>7783</td>\n",
       "    </tr>\n",
       "    <tr>\n",
       "      <th>1</th>\n",
       "      <td>Formalized Training</td>\n",
       "      <td>671</td>\n",
       "    </tr>\n",
       "    <tr>\n",
       "      <th>2</th>\n",
       "      <td>Command Discipline A</td>\n",
       "      <td>558</td>\n",
       "    </tr>\n",
       "    <tr>\n",
       "      <th>3</th>\n",
       "      <td>Instructions</td>\n",
       "      <td>430</td>\n",
       "    </tr>\n",
       "    <tr>\n",
       "      <th>4</th>\n",
       "      <td>No Penalty</td>\n",
       "      <td>371</td>\n",
       "    </tr>\n",
       "    <tr>\n",
       "      <th>5</th>\n",
       "      <td>Vacation Loss</td>\n",
       "      <td>305</td>\n",
       "    </tr>\n",
       "    <tr>\n",
       "      <th>6</th>\n",
       "      <td>Command Discipline B</td>\n",
       "      <td>146</td>\n",
       "    </tr>\n",
       "    <tr>\n",
       "      <th>7</th>\n",
       "      <td>Terminated</td>\n",
       "      <td>50</td>\n",
       "    </tr>\n",
       "    <tr>\n",
       "      <th>8</th>\n",
       "      <td>Other</td>\n",
       "      <td>8</td>\n",
       "    </tr>\n",
       "  </tbody>\n",
       "</table>\n",
       "</div>"
      ],
      "text/plain": [
       "         PenaltyRecoded  count\n",
       "0        Not Applicable   7783\n",
       "1   Formalized Training    671\n",
       "2  Command Discipline A    558\n",
       "3          Instructions    430\n",
       "4            No Penalty    371\n",
       "5         Vacation Loss    305\n",
       "6  Command Discipline B    146\n",
       "7            Terminated     50\n",
       "8                 Other      8"
      ]
     },
     "execution_count": 156,
     "metadata": {},
     "output_type": "execute_result"
    }
   ],
   "source": [
    "nypd_nyt[\"PenaltyRecoded\"].value_counts().reset_index()"
   ]
  },
  {
   "cell_type": "code",
   "execution_count": 157,
   "id": "ae764d89",
   "metadata": {},
   "outputs": [],
   "source": [
    "nypd_nyt[\"PenaltyRecoded\"] = np.where(nypd_nyt[\"PenaltyRecoded\"] == \"nan\", np.nan, nypd_nyt[\"PenaltyRecoded\"])"
   ]
  },
  {
   "cell_type": "code",
   "execution_count": 168,
   "id": "b66140f2",
   "metadata": {
    "scrolled": true
   },
   "outputs": [
    {
     "data": {
      "image/png": "[encoded data removed]"
     },
     "metadata": {
      "image/png": {
       "height": 480,
       "width": 640
      }
     },
     "output_type": "display_data"
    }
   ],
   "source": [
    "(\n",
    "ggplot(data = nypd_nyt[\"PenaltyRecoded\"].value_counts().reset_index()) +\n",
    "    geom_col(aes(x = \"PenaltyRecoded\", \n",
    "                 y = \"count\", \n",
    "                fill = \"PenaltyRecoded\")) +\n",
    "    labs(title = \"Distribution for NYPD Penalty\",\n",
    "        x = \"NYPD Penalty Type\",\n",
    "        y = \"Count\",\n",
    "        fill = \"Penalty\") +\n",
    "    theme(axis_text_x = element_text(angle = 90))\n",
    "\n",
    ")"
   ]
  },
  {
   "cell_type": "code",
   "execution_count": 159,
   "id": "f6469f6d",
   "metadata": {},
   "outputs": [
    {
     "data": {
      "text/html": [
       "<div>\n",
       "<style scoped>\n",
       "    .dataframe tbody tr th:only-of-type {\n",
       "        vertical-align: middle;\n",
       "    }\n",
       "\n",
       "    .dataframe tbody tr th {\n",
       "        vertical-align: top;\n",
       "    }\n",
       "\n",
       "    .dataframe thead th {\n",
       "        text-align: right;\n",
       "    }\n",
       "</style>\n",
       "<table border=\"1\" class=\"dataframe\">\n",
       "  <thead>\n",
       "    <tr style=\"text-align: right;\">\n",
       "      <th></th>\n",
       "      <th>PenaltyCount</th>\n",
       "      <th>count</th>\n",
       "    </tr>\n",
       "  </thead>\n",
       "  <tbody>\n",
       "    <tr>\n",
       "      <th>0</th>\n",
       "      <td>Not Applicable</td>\n",
       "      <td>27541</td>\n",
       "    </tr>\n",
       "    <tr>\n",
       "      <th>1</th>\n",
       "      <td>1</td>\n",
       "      <td>7627</td>\n",
       "    </tr>\n",
       "    <tr>\n",
       "      <th>2</th>\n",
       "      <td>0</td>\n",
       "      <td>1202</td>\n",
       "    </tr>\n",
       "    <tr>\n",
       "      <th>3</th>\n",
       "      <td>2+</td>\n",
       "      <td>296</td>\n",
       "    </tr>\n",
       "  </tbody>\n",
       "</table>\n",
       "</div>"
      ],
      "text/plain": [
       "     PenaltyCount  count\n",
       "0  Not Applicable  27541\n",
       "1               1   7627\n",
       "2               0   1202\n",
       "3              2+    296"
      ]
     },
     "execution_count": 159,
     "metadata": {},
     "output_type": "execute_result"
    }
   ],
   "source": [
    "nypd[\"PenaltyCount\"].value_counts().reset_index()"
   ]
  },
  {
   "cell_type": "code",
   "execution_count": 160,
   "id": "7cba5b67",
   "metadata": {},
   "outputs": [
    {
     "data": {
      "image/png": "[encoded data removed]"
     },
     "metadata": {
      "image/png": {
       "height": 480,
       "width": 640
      }
     },
     "output_type": "display_data"
    }
   ],
   "source": [
    "(\n",
    "ggplot(data = nypd[\"PenaltyCount\"].value_counts().reset_index()) +\n",
    "    geom_col(aes(x = \"PenaltyCount\", \n",
    "                 y = \"count\", \n",
    "                fill = \"PenaltyCount\")) +\n",
    "    labs(title = \"Distribution for # of Penalties\",\n",
    "        x = \"# of Penalties\",\n",
    "        y = \"Count\",\n",
    "        fill = \"Penalty Count\") \n",
    "\n",
    ")"
   ]
  },
  {
   "cell_type": "markdown",
   "id": "2ab548c9",
   "metadata": {},
   "source": [
    "#### Dummy Coding"
   ]
  },
  {
   "cell_type": "code",
   "execution_count": 161,
   "id": "881dd4b7",
   "metadata": {},
   "outputs": [],
   "source": [
    "#cols to dummy code\n",
    "cols_to_dummy = ['Officer Rank At Incident','FADO Type', 'Victim/Alleged Victim Age Range At Incident',\n",
    "       'Victim/Alleged Victim Gender', 'Victim / Alleged Victim Race (Legacy)','Borough Of Incident Occurrence',\n",
    "                'Location Type Of Incident', 'Reason for Police Contact', 'Outcome Of Police Encounter','BWC Evidence', 'Video Evidence',\n",
    "       'Active Per Last Reported Status', 'Officer Race', 'Officer Gender', 'Current Rank']"
   ]
  },
  {
   "cell_type": "code",
   "execution_count": 162,
   "id": "0b23d4c9",
   "metadata": {},
   "outputs": [],
   "source": [
    "#dummy code and add to dataframe\n",
    "dummy_cols = pd.get_dummies(nypd_nyt[cols_to_dummy], dtype = int)\n",
    "nypd_nyt = pd.concat([nypd_nyt, dummy_cols], axis=1).drop(columns = cols_to_dummy)"
   ]
  },
  {
   "cell_type": "code",
   "execution_count": 163,
   "id": "d1fd6fad",
   "metadata": {
    "scrolled": true
   },
   "outputs": [
    {
     "name": "stdout",
     "output_type": "stream",
     "text": [
      "['Complaint Id', 'Tax ID', 'Officer Command At Incident', 'Officer Days On Force At Incident', 'Allegation Record Identity', 'Incident Hour', 'Precinct Of Incident Occurrence', 'CCRB Complaint Disposition', 'Officer First Name', 'Officer Last Name', 'Current Command', 'Total Complaints', 'Total Substantiated Complaints', 'year', 'officer_names', 'officer_names_lower', 'in_news', 'month', 'Last Reported Active Year', 'Rank Changed', 'Command Changed', 'PenaltyCount', 'PenaltyRecoded', 'Total Complaints_z_score', 'Total Substantiated Complaints_z_score', 'Officer Days On Force At Incident_zscore', 'news_hits', 'Officer Rank At Incident_Captain', 'Officer Rank At Incident_Deputy Inspector', 'Officer Rank At Incident_Detective', 'Officer Rank At Incident_Inspector', 'Officer Rank At Incident_Lieutenant', 'Officer Rank At Incident_Police Officer', 'Officer Rank At Incident_Sergeant', 'Officer Rank At Incident_Unknown', 'FADO Type_Abuse of Authority', 'FADO Type_Discourtesy', 'FADO Type_Force', 'FADO Type_Offensive Language', 'FADO Type_Untruthful Statement', 'Victim/Alleged Victim Age Range At Incident_20 < Age <= 24', 'Victim/Alleged Victim Age Range At Incident_24 < Age <= 29', 'Victim/Alleged Victim Age Range At Incident_29 < Age <= 34', 'Victim/Alleged Victim Age Range At Incident_34 < Age <= 39', 'Victim/Alleged Victim Age Range At Incident_39 < Age <= 49', 'Victim/Alleged Victim Age Range At Incident_Age <= 20', 'Victim/Alleged Victim Age Range At Incident_Age >= 49', 'Victim/Alleged Victim Gender_Female/Woman', 'Victim/Alleged Victim Gender_Male/Man', 'Victim/Alleged Victim Gender_TGNC / Other', 'Victim / Alleged Victim Race (Legacy)_American Indian', 'Victim / Alleged Victim Race (Legacy)_Asian', 'Victim / Alleged Victim Race (Legacy)_Black', 'Victim / Alleged Victim Race (Legacy)_Hispanic', 'Victim / Alleged Victim Race (Legacy)_Unknown', 'Victim / Alleged Victim Race (Legacy)_White', 'Borough Of Incident Occurrence_Bronx', 'Borough Of Incident Occurrence_Brooklyn', 'Borough Of Incident Occurrence_Manhattan', 'Borough Of Incident Occurrence_Outside NYC', 'Borough Of Incident Occurrence_Queens', 'Borough Of Incident Occurrence_Staten Island', 'Location Type Of Incident_Other', 'Location Type Of Incident_public_area', 'Location Type Of Incident_residential', 'Location Type Of Incident_transit', 'Reason for Police Contact_Aid', 'Reason for Police Contact_C/V involved', 'Reason for Police Contact_Executed Action', 'Reason for Police Contact_Other', 'Reason for Police Contact_Report', 'Reason for Police Contact_Suspect of Crime', 'Reason for Police Contact_Violation', 'Outcome Of Police Encounter_Arrest', 'Outcome Of Police Encounter_Juvenile Report', 'Outcome Of Police Encounter_No arrest made or summons issued', 'Outcome Of Police Encounter_Summons', 'BWC Evidence_No', 'BWC Evidence_Yes', 'Video Evidence_No', 'Video Evidence_Yes', 'Active Per Last Reported Status_No', 'Active Per Last Reported Status_Yes', 'Officer Race_American Indian', 'Officer Race_Asian', 'Officer Race_Black', 'Officer Race_Hispanic', 'Officer Race_White', 'Officer Gender_Female', 'Officer Gender_Male', 'Officer Gender_TGNC / Other', 'Current Rank_Captain', 'Current Rank_Chiefs and other ranks', 'Current Rank_Deputy Inspector', 'Current Rank_Detective', 'Current Rank_Inspector', 'Current Rank_Lieutenant', 'Current Rank_Police Officer', 'Current Rank_Sergeant']\n"
     ]
    }
   ],
   "source": [
    "print(nypd_nyt.columns.tolist())"
   ]
  },
  {
   "cell_type": "code",
   "execution_count": 164,
   "id": "db54499f",
   "metadata": {
    "scrolled": true
   },
   "outputs": [],
   "source": [
    "#fill missing with 0\n",
    "nypd_nyt[\"in_news\"] = nypd_nyt[\"in_news\"].fillna(0)"
   ]
  },
  {
   "cell_type": "code",
   "execution_count": 165,
   "id": "ceeefa3c",
   "metadata": {
    "scrolled": true
   },
   "outputs": [],
   "source": [
    "#drop string cols that aren't useful\n",
    "nypd_nyt.drop(columns = ['Officer Command At Incident', 'Officer First Name', 'Officer Last Name', 'Current Command', 'officer_names', 'officer_names_lower'], inplace = True)"
   ]
  },
  {
   "cell_type": "code",
   "execution_count": 166,
   "id": "1fdf523b",
   "metadata": {
    "scrolled": true
   },
   "outputs": [],
   "source": [
    "#convert strings to int\n",
    "nypd_nyt['Precinct Of Incident Occurrence'] = nypd_nyt['Precinct Of Incident Occurrence'].fillna(1000).astype(int).replace(1000, np.nan)\n",
    "nypd_nyt['month'] = nypd_nyt['month'].replace(\"__\", 0).astype(int).replace(0, np.nan)"
   ]
  },
  {
   "cell_type": "code",
   "execution_count": 167,
   "id": "fa39fd9e",
   "metadata": {
    "scrolled": false
   },
   "outputs": [
    {
     "data": {
      "text/plain": [
       "Incident Hour                      0.004263\n",
       "Precinct Of Incident Occurrence    0.017729\n",
       "month                              0.001453\n",
       "dtype: float64"
      ]
     },
     "execution_count": 167,
     "metadata": {},
     "output_type": "execute_result"
    }
   ],
   "source": [
    "#checks for missing values\n",
    "nypd_nyt.isnull().mean()[nypd_nyt.isnull().mean() > 0]"
   ]
  },
  {
   "cell_type": "code",
   "execution_count": 169,
   "id": "7927ed83",
   "metadata": {},
   "outputs": [],
   "source": [
    "#initializing\n",
    "imputer = IterativeImputer(max_iter = 50, random_state = 42, verbose = 1)"
   ]
  },
  {
   "cell_type": "code",
   "execution_count": 171,
   "id": "103a6530",
   "metadata": {},
   "outputs": [],
   "source": [
    "#extracting target\n",
    "target = nypd_nyt[[\"CCRB Complaint Disposition\", \"PenaltyRecoded\", \"PenaltyCount\"]]\n",
    "temp = nypd_nyt.drop(columns = [\"CCRB Complaint Disposition\", \"PenaltyRecoded\", \"PenaltyCount\"])"
   ]
  },
  {
   "cell_type": "code",
   "execution_count": 172,
   "id": "eb7e375d",
   "metadata": {
    "scrolled": false
   },
   "outputs": [
    {
     "name": "stdout",
     "output_type": "stream",
     "text": [
      "[IterativeImputer] Completing matrix with shape (10322, 90)\n",
      "[IterativeImputer] Change: 63.90021504681142, scaled tolerance: 202107.787 \n",
      "[IterativeImputer] Early stopping criterion reached.\n"
     ]
    }
   ],
   "source": [
    "#imputing missing data\n",
    "nypd_nyt_imputed = pd.DataFrame(imputer.fit_transform(temp), columns=temp.columns)"
   ]
  },
  {
   "cell_type": "code",
   "execution_count": 173,
   "id": "42077c36",
   "metadata": {},
   "outputs": [],
   "source": [
    "nypd_nyt_imputed = pd.concat([nypd_nyt_imputed, target], axis = 1)"
   ]
  },
  {
   "cell_type": "markdown",
   "id": "602e9b83",
   "metadata": {},
   "source": [
    "#### Export"
   ]
  },
  {
   "cell_type": "code",
   "execution_count": 174,
   "id": "ffffea1c",
   "metadata": {},
   "outputs": [],
   "source": [
    "nypd_nyt_imputed.to_csv(\"../data/cleaned_data.csv\", index = False)"
   ]
  }
 ],
 "metadata": {
  "kernelspec": {
   "display_name": "Python 3 (ipykernel)",
   "language": "python",
   "name": "python3"
  },
  "language_info": {
   "codemirror_mode": {
    "name": "ipython",
    "version": 3
   },
   "file_extension": ".py",
   "mimetype": "text/x-python",
   "name": "python",
   "nbconvert_exporter": "python",
   "pygments_lexer": "ipython3",
   "version": "3.10.9"
  }
 },
 "nbformat": 4,
 "nbformat_minor": 5
}
