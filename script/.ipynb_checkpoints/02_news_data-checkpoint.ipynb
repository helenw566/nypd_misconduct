{
 "cells": [
  {
   "cell_type": "code",
   "execution_count": 2,
   "id": "ffb9245c",
   "metadata": {},
   "outputs": [],
   "source": [
    "#set library\n",
    "import requests\n",
    "from dotenv import load_dotenv\n",
    "import pandas as pd\n",
    "import os\n",
    "import time\n",
    "import numpy as np\n",
    "#from bs4 import BeautifulSoup"
   ]
  },
  {
   "cell_type": "code",
   "execution_count": 3,
   "id": "99bebc0d",
   "metadata": {},
   "outputs": [],
   "source": [
    "#read in file\n",
    "members = pd.read_csv(\"../data/officer_names.csv\")"
   ]
  },
  {
   "cell_type": "code",
   "execution_count": 5,
   "id": "b426a642",
   "metadata": {},
   "outputs": [],
   "source": [
    "#format year for api search\n",
    "members[\"year\"] = members[\"year\"].astype(str).str[:4] + \"0101\""
   ]
  },
  {
   "cell_type": "code",
   "execution_count": 6,
   "id": "69f0ebbb",
   "metadata": {},
   "outputs": [],
   "source": [
    "#load api key\n",
    "load_dotenv()\n",
    "api_key = os.environ.get('nyt_api_key')"
   ]
  },
  {
   "cell_type": "code",
   "execution_count": 7,
   "id": "eda381c5",
   "metadata": {},
   "outputs": [],
   "source": [
    "# set url for api\n",
    "base_url =  \"https://api.nytimes.com/svc/search/v2/articlesearch.json\""
   ]
  },
  {
   "cell_type": "code",
   "execution_count": 8,
   "id": "4eed966b",
   "metadata": {},
   "outputs": [],
   "source": [
    "storage = []"
   ]
  },
  {
   "cell_type": "code",
   "execution_count": null,
   "id": "43c4bdb8",
   "metadata": {},
   "outputs": [],
   "source": [
    "for row in range(len(members)):\n",
    "    #setting parameters\n",
    "    search = members[\"officer_names_lower\"].iloc[row] + \" AND (police OR officer OR NYPD) AND (misconduct OR force OR brutality OR violence)\"\n",
    "    start = int(members[\"year\"].iloc[row]) - 10000\n",
    "    end = int(members[\"year\"].iloc[row]) + 10000\n",
    "        \n",
    "    #request\n",
    "    response = requests.get(base_url, params= {\n",
    "        \"q\": search, \n",
    "        \"api-key\": api_key,\n",
    "        \"begin_date\": str(start),  \n",
    "        \"end_date\": str(end)\n",
    "    })\n",
    "    \n",
    "    #checking status\n",
    "    if response.status_code == 200:\n",
    "        storage.append(response.json()[\"response\"])\n",
    "    else:\n",
    "        print(\"Request Failed:\", response.status_code)\n",
    "              \n",
    "    #set sleep time so we don't have issues with API rate limits\n",
    "    time.sleep(22) "
   ]
  },
  {
   "cell_type": "code",
   "execution_count": null,
   "id": "0e76adaf",
   "metadata": {},
   "outputs": [],
   "source": [
    "storage"
   ]
  },
  {
   "cell_type": "code",
   "execution_count": null,
   "id": "055a0eab",
   "metadata": {},
   "outputs": [],
   "source": [
    "# Specify the file path where you want to save the data\n",
    "file_path = \"temp_storage.json\"\n",
    "\n",
    "# Save the list of responses to a JSON file\n",
    "with open(file_path, 'w') as f:\n",
    "    json.dump(storage, f, indent=4)"
   ]
  },
  {
   "cell_type": "code",
   "execution_count": null,
   "id": "13390d54",
   "metadata": {},
   "outputs": [],
   "source": [
    "# Set up the API URL and parameters\n"
   ]
  },
  {
   "cell_type": "code",
   "execution_count": null,
   "id": "f959a030",
   "metadata": {},
   "outputs": [],
   "source": [
    "# Make the API request\n"
   ]
  },
  {
   "cell_type": "code",
   "execution_count": null,
   "id": "8ecfccdf",
   "metadata": {},
   "outputs": [],
   "source": [
    "response.status_code"
   ]
  },
  {
   "cell_type": "code",
   "execution_count": null,
   "id": "04d4cf31",
   "metadata": {},
   "outputs": [],
   "source": [
    "response.json()"
   ]
  },
  {
   "cell_type": "code",
   "execution_count": null,
   "id": "0300aea0",
   "metadata": {},
   "outputs": [],
   "source": [
    "# Check if the request was successful\n",
    "if response.status_code == 200:\n",
    "    articles = response.json()['response']['docs']\n",
    "    for article in articles:\n",
    "        print(article['headline']['main'])\n",
    "        print(article['web_url'])\n",
    "        print(article['pub_date'])\n",
    "        print(\"\\n\")\n",
    "else:\n",
    "    print(\"Error:\", response.status_code)"
   ]
  },
  {
   "cell_type": "code",
   "execution_count": null,
   "id": "783dca15",
   "metadata": {},
   "outputs": [],
   "source": []
  }
 ],
 "metadata": {
  "kernelspec": {
   "display_name": "Python 3 (ipykernel)",
   "language": "python",
   "name": "python3"
  },
  "language_info": {
   "codemirror_mode": {
    "name": "ipython",
    "version": 3
   },
   "file_extension": ".py",
   "mimetype": "text/x-python",
   "name": "python",
   "nbconvert_exporter": "python",
   "pygments_lexer": "ipython3",
   "version": "3.10.9"
  }
 },
 "nbformat": 4,
 "nbformat_minor": 5
}
