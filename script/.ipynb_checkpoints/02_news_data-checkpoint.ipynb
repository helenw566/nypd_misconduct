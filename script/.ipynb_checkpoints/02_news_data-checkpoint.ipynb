{
 "cells": [
  {
   "cell_type": "code",
   "execution_count": 1,
   "id": "ffb9245c",
   "metadata": {},
   "outputs": [],
   "source": [
    "#set library\n",
    "import requests\n",
    "from dotenv import load_dotenv\n",
    "import pandas as pd\n",
    "import os\n",
    "import time\n",
    "import numpy as np\n",
    "#from bs4 import BeautifulSoup"
   ]
  },
  {
   "cell_type": "markdown",
   "id": "6179fb32",
   "metadata": {},
   "source": [
    "#### Main API Query Code"
   ]
  },
  {
   "cell_type": "code",
   "execution_count": 2,
   "id": "99bebc0d",
   "metadata": {},
   "outputs": [],
   "source": [
    "#read in file\n",
    "members = pd.read_csv(\"../data/officer_names.csv\")"
   ]
  },
  {
   "cell_type": "code",
   "execution_count": 3,
   "id": "b426a642",
   "metadata": {},
   "outputs": [],
   "source": [
    "#format year for api search\n",
    "members[\"year\"] = members[\"year\"].astype(str).str[:4] + \"0101\""
   ]
  },
  {
   "cell_type": "code",
   "execution_count": 4,
   "id": "69f0ebbb",
   "metadata": {},
   "outputs": [],
   "source": [
    "#load api key\n",
    "load_dotenv()\n",
    "api_key = os.environ.get('georgetown_api_key')"
   ]
  },
  {
   "cell_type": "code",
   "execution_count": 5,
   "id": "eda381c5",
   "metadata": {},
   "outputs": [],
   "source": [
    "# set url for api\n",
    "base_url =  \"https://api.nytimes.com/svc/search/v2/articlesearch.json\""
   ]
  },
  {
   "cell_type": "code",
   "execution_count": 29,
   "id": "4eed966b",
   "metadata": {},
   "outputs": [],
   "source": [
    "storage = []"
   ]
  },
  {
   "cell_type": "code",
   "execution_count": 30,
   "id": "6dd2413c",
   "metadata": {},
   "outputs": [],
   "source": [
    "offset = 3647"
   ]
  },
  {
   "cell_type": "code",
   "execution_count": 31,
   "id": "43c4bdb8",
   "metadata": {},
   "outputs": [],
   "source": [
    "for row in range(offset, len(members)):\n",
    "    #setting parameters\n",
    "    search = members[\"officer_names_lower\"].iloc[row] + \" AND (police OR officer OR NYPD) AND (misconduct OR force OR brutality OR violence)\"\n",
    "    start = int(members[\"year\"].iloc[row]) - 10000\n",
    "    end = int(members[\"year\"].iloc[row]) + 10000\n",
    "        \n",
    "    #request\n",
    "    response = requests.get(base_url, params= {\n",
    "        \"q\": search, \n",
    "        \"api-key\": api_key,\n",
    "        \"begin_date\": str(start),  \n",
    "        \"end_date\": str(end)\n",
    "    })\n",
    "    \n",
    "    #checking status\n",
    "    if response.status_code == 200:\n",
    "        storage.append(response.json()[\"response\"])\n",
    "    elif response.status_code == 429:\n",
    "        print(\"Request Failed:\", response.status_code)\n",
    "        break\n",
    "    else:\n",
    "        print(\"Request Failed:\", response.status_code)\n",
    "              \n",
    "    #set sleep time so we don't have issues with API rate limits\n",
    "    time.sleep(22) "
   ]
  },
  {
   "cell_type": "code",
   "execution_count": 32,
   "id": "0e76adaf",
   "metadata": {
    "scrolled": false
   },
   "outputs": [
    {
     "data": {
      "text/plain": [
       "353"
      ]
     },
     "execution_count": 32,
     "metadata": {},
     "output_type": "execute_result"
    }
   ],
   "source": [
    "len(storage) #currently at 500"
   ]
  },
  {
   "cell_type": "code",
   "execution_count": 33,
   "id": "01319ffb",
   "metadata": {},
   "outputs": [],
   "source": [
    "def processing_json(storage, members, i):\n",
    "    \"\"\"\n",
    "    extracts info from .json and converts\n",
    "    it into dataframe\n",
    "    \"\"\"\n",
    "    \n",
    "    #extracting info\n",
    "    name = members[\"officer_names_lower\"][i] #name of officer\n",
    "    year = members[\"year\"][i][:4]\n",
    "    num = storage[i][\"meta\"][\"hits\"] #gets number of articles that matched\n",
    "    info = storage[i][\"docs\"]\n",
    "    \n",
    "    if num == 0 or not info:  \n",
    "        return pd.DataFrame([{\n",
    "            \"officer_names_lower\": name,\n",
    "            \"year\": year,\n",
    "            \"news_hits\": num,\n",
    "            \"info\": None  \n",
    "        }])\n",
    "    \n",
    "    #dumping into dict\n",
    "    temp = {\n",
    "        \"officer_names_lower\": name,\n",
    "        \"year\": year,\n",
    "        \"news_hits\": num,\n",
    "        \"info\": info\n",
    "    }\n",
    "    \n",
    "    #convert to pandas\n",
    "    news_results = pd.DataFrame(temp)\n",
    "    \n",
    "    return news_results"
   ]
  },
  {
   "cell_type": "code",
   "execution_count": 34,
   "id": "9290bf93",
   "metadata": {},
   "outputs": [],
   "source": [
    "#empty dataframe to store results\n",
    "nyt_results = pd.DataFrame(columns = ['officer_names_lower', 'year', 'news_hits', 'info'])"
   ]
  },
  {
   "cell_type": "code",
   "execution_count": 35,
   "id": "ef747cb7",
   "metadata": {},
   "outputs": [],
   "source": [
    "#loop to preprocess\n",
    "for i in range(len(storage)):\n",
    "    temp = processing_json(storage, members, i)\n",
    "    nyt_results = pd.concat([nyt_results, temp])\n",
    "    "
   ]
  },
  {
   "cell_type": "code",
   "execution_count": 36,
   "id": "c233fbab",
   "metadata": {},
   "outputs": [
    {
     "data": {
      "text/plain": [
       "news_hits\n",
       "0    348\n",
       "1      5\n",
       "Name: count, dtype: int64"
      ]
     },
     "execution_count": 36,
     "metadata": {},
     "output_type": "execute_result"
    }
   ],
   "source": [
    "#checks count\n",
    "nyt_results[\"news_hits\"].value_counts()"
   ]
  },
  {
   "cell_type": "code",
   "execution_count": 37,
   "id": "083361fb",
   "metadata": {},
   "outputs": [],
   "source": [
    "#save file\n",
    "nyt_results.to_csv(\"../data/nyt_results_p7.csv\", index = False)"
   ]
  },
  {
   "cell_type": "markdown",
   "id": "70d6519b",
   "metadata": {},
   "source": [
    "#### Concat Searches"
   ]
  },
  {
   "cell_type": "code",
   "execution_count": 38,
   "id": "9ce7047c",
   "metadata": {},
   "outputs": [],
   "source": [
    "#read files\n",
    "search1 = pd.read_csv(\"../data/nyt_results.csv\")\n",
    "search2 = pd.read_csv(\"../data/nyt_results_p2.csv\")\n",
    "search3 = pd.read_csv(\"../data/nyt_results_p3.csv\")\n",
    "search4 = pd.read_csv(\"../data/nyt_results_p4.csv\")\n",
    "search5 = pd.read_csv(\"../data/nyt_results_p5.csv\")\n",
    "search6 = pd.read_csv(\"../data/nyt_results_p6.csv\")\n",
    "search7 = pd.read_csv(\"../data/nyt_results_p7.csv\")"
   ]
  },
  {
   "cell_type": "code",
   "execution_count": 39,
   "id": "2cfe1297",
   "metadata": {
    "scrolled": true
   },
   "outputs": [],
   "source": [
    "#clean file\n",
    "search1 = search1.drop(columns = [\"info\"]).drop_duplicates()\n",
    "search2 = search2.drop(columns = [\"info\"]).drop_duplicates()\n",
    "search3 = search3.drop(columns = [\"info\"]).drop_duplicates()\n",
    "search4 = search4.drop(columns = [\"info\"]).drop_duplicates()\n",
    "search5 = search5.drop(columns = [\"info\"]).drop_duplicates()\n",
    "search6 = search6.drop(columns = [\"info\"]).drop_duplicates()\n",
    "search7 = search7.drop(columns = [\"info\"]).drop_duplicates()"
   ]
  },
  {
   "cell_type": "code",
   "execution_count": 40,
   "id": "bc0f1eea",
   "metadata": {},
   "outputs": [],
   "source": [
    "#combine results\n",
    "full_nyt_results =  pd.concat([search1, search2, search3, search4, search5, search6, search7], axis=0, ignore_index=True)"
   ]
  },
  {
   "cell_type": "code",
   "execution_count": 42,
   "id": "7ae1cbdc",
   "metadata": {},
   "outputs": [
    {
     "data": {
      "text/plain": [
       "(4000, 3)"
      ]
     },
     "execution_count": 42,
     "metadata": {},
     "output_type": "execute_result"
    }
   ],
   "source": [
    "full_nyt_results.shape"
   ]
  },
  {
   "cell_type": "code",
   "execution_count": 43,
   "id": "f5503936",
   "metadata": {},
   "outputs": [],
   "source": [
    "#fix errors from preprocessing (didn't account for the batching)\n",
    "full_nyt_results[\"officer_names_lower\"] = members[\"officer_names_lower\"][:len(full_nyt_results)]\n",
    "full_nyt_results[\"year\"] = members[\"year\"][:len(full_nyt_results)].str[:4]"
   ]
  },
  {
   "cell_type": "code",
   "execution_count": 44,
   "id": "121b31d6",
   "metadata": {
    "scrolled": true
   },
   "outputs": [
    {
     "data": {
      "text/plain": [
       "news_hits\n",
       "0    3936\n",
       "1      51\n",
       "2       9\n",
       "4       3\n",
       "3       1\n",
       "Name: count, dtype: int64"
      ]
     },
     "execution_count": 44,
     "metadata": {},
     "output_type": "execute_result"
    }
   ],
   "source": [
    "#checks count\n",
    "full_nyt_results[\"news_hits\"].value_counts()"
   ]
  },
  {
   "cell_type": "code",
   "execution_count": 46,
   "id": "49992ecb",
   "metadata": {},
   "outputs": [],
   "source": [
    "#save file\n",
    "full_nyt_results.to_csv(\"../data/nyt_api_results.csv\", index = False)"
   ]
  }
 ],
 "metadata": {
  "kernelspec": {
   "display_name": "Python 3 (ipykernel)",
   "language": "python",
   "name": "python3"
  },
  "language_info": {
   "codemirror_mode": {
    "name": "ipython",
    "version": 3
   },
   "file_extension": ".py",
   "mimetype": "text/x-python",
   "name": "python",
   "nbconvert_exporter": "python",
   "pygments_lexer": "ipython3",
   "version": "3.10.9"
  }
 },
 "nbformat": 4,
 "nbformat_minor": 5
}
